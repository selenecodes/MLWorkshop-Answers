{
 "cells": [
  {
   "cell_type": "markdown",
   "metadata": {},
   "source": [
    "# Tensorforce"
   ]
  },
  {
   "cell_type": "markdown",
   "metadata": {},
   "source": [
    "### Why Tensorforce?\n",
    "We've seen how we can create a model using Tensorflow (Keras). Works great, but it can be done easier. \n",
    "This is where Tensorforce comes in. Tensorforce is build on top of Tensorflow, with the goal to make it easier to apply reinforcement learning."
   ]
  },
  {
   "cell_type": "code",
   "execution_count": null,
   "metadata": {},
   "outputs": [],
   "source": [
    "# Imports\n",
    "import os\n",
    "import logging\n",
    "\n",
    "import tensorflow as tf\n",
    "\n",
    "from tensorforce.agents import Agent\n",
    "from tensorforce.environments import Environment\n",
    "from tensorforce.execution import Runner\n",
    "\n",
    "import numpy as np"
   ]
  },
  {
   "cell_type": "code",
   "execution_count": null,
   "metadata": {},
   "outputs": [],
   "source": [
    "# Set logging settings\n",
    "os.environ['TF_CPP_MIN_LOG_LEVEL'] = '3'\n",
    "logger = tf.get_logger()\n",
    "logger.setLevel(logging.ERROR)"
   ]
  },
  {
   "cell_type": "markdown",
   "metadata": {},
   "source": [
    "### Opdracht\n",
    "Use the Tensorforce library to create a similar model to the one made in the previous exercise. All needed imports are already there."
   ]
  },
  {
   "cell_type": "code",
   "execution_count": null,
   "metadata": {},
   "outputs": [],
   "source": [
    "# Create an OpenAI-Gym environment\n",
    "environment = Environment.create(environment='gym', level='CartPole-v1', visualize=False)"
   ]
  },
  {
   "cell_type": "code",
   "execution_count": null,
   "metadata": {},
   "outputs": [],
   "source": [
    "# Create a PPO agent\n",
    "agent = Agent.create(\n",
    "    agent='ppo', environment=environment,\n",
    "    # Automatically configured network\n",
    "    network='auto',\n",
    "    # Optimization\n",
    "    batch_size=10, update_frequency=2, learning_rate=1e-3, subsampling_fraction=0.2,\n",
    "    optimization_steps=5,\n",
    "    # Reward estimation\n",
    "    likelihood_ratio_clipping=0.2, discount=0.99, estimate_terminal=False,\n",
    "    # Critic\n",
    "    critic_network='auto',\n",
    "    critic_optimizer=dict(optimizer='adam', multi_step=10, learning_rate=1e-3),\n",
    "    # Preprocessing\n",
    "    preprocessing=None,\n",
    "    # Exploration\n",
    "    exploration=0.0, variable_noise=0.0,\n",
    "    # Regularization\n",
    "    l2_regularization=0.0, entropy_regularization=0.0,\n",
    "    # TensorFlow etc\n",
    "    name='agent', device=None, parallel_interactions=4, seed=None, execution=None, saver=None,\n",
    "    summarizer=None, recorder=None\n",
    ")"
   ]
  },
  {
   "cell_type": "code",
   "execution_count": null,
   "metadata": {},
   "outputs": [],
   "source": [
    "# Initialize the runner\n",
    "runner = Runner(agent=agent, environment=environment)"
   ]
  },
  {
   "cell_type": "code",
   "execution_count": null,
   "metadata": {},
   "outputs": [],
   "source": [
    "# Start the runner\n",
    "runner.run(num_episodes=300)\n",
    "runner.close()"
   ]
  },
  {
   "cell_type": "code",
   "execution_count": null,
   "metadata": {},
   "outputs": [],
   "source": [
    "# Print statistics\n",
    "print(f\"Learning finished. Total episodes: {runner.episodes}. Average reward of last 100 episodes: {np.mean(runner.episode_rewards[-100:])}\")"
   ]
  },
  {
   "cell_type": "code",
   "execution_count": null,
   "metadata": {},
   "outputs": [],
   "source": [
    "# Evaluate and visualize model\n",
    "environment.visualize = True\n",
    "runner.run(num_episodes=100, evaluation=True)"
   ]
  },
  {
   "cell_type": "code",
   "execution_count": null,
   "metadata": {},
   "outputs": [],
   "source": []
  }
 ],
 "metadata": {
  "kernelspec": {
   "display_name": "Python 3.6.1 64-bit",
   "language": "python",
   "name": "python36164bit945de260bee3450b8b98eb646e0ca2a8"
  },
  "language_info": {
   "codemirror_mode": {
    "name": "ipython",
    "version": 3
   },
   "file_extension": ".py",
   "mimetype": "text/x-python",
   "name": "python",
   "nbconvert_exporter": "python",
   "pygments_lexer": "ipython3",
   "version": "3.6.1"
  }
 },
 "nbformat": 4,
 "nbformat_minor": 2
}
