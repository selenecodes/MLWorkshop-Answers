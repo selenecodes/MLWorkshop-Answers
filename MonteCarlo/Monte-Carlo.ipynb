{
 "cells": [
  {
   "cell_type": "markdown",
   "metadata": {},
   "source": [
    "# Monte Carlo Methods"
   ]
  },
  {
   "cell_type": "code",
   "execution_count": null,
   "metadata": {},
   "outputs": [],
   "source": [
    "import datetime as dt\n",
    "\n",
    "import matplotlib.pylab as plt\n",
    "import numpy as np\n",
    "import pandas_datareader.data as web\n",
    "import seaborn as sns\n",
    "import timeit\n",
    "sns.set(context='notebook')"
   ]
  },
  {
   "cell_type": "markdown",
   "metadata": {},
   "source": [
    "## Doel\n",
    "\n",
    "In de tweede helft van de workshop ga je door middel van Monte Carlo onderzoeken hoe de spreiding van een aandeel zich zal verlopen. Aandelen kunnen zich op nagenoeg oneindig veel manieren ontwikkelen. Hoe de prijs van morgen, de state, ten opzichte van vandaag eruit ziet is niet te voorspellen. Door middel van Monte Carlo gaan we het verloop honderden tot duizenden malen simuleren en een kansverdeling opstellen. Op het einde van de workshop gaan we een groot nadeel van de Monte Carlo Method ondervinden, hoeveel herhalingen van de simulatie kan jouw computer aan?\n",
    "\n",
    "Aan het einde van deze workshop is het de bedoeling dat je plots er als volgt uitzien. Deze foto zal je waarschijnlijk herkennen van de presentatie:\n",
    "<img src=\"attachments/photo1.png\" align=\"center\">\n",
    "\n",
    "***\n",
    "\n",
    "## Deel 1: Functies schrijven\n",
    "Voor dit eerste deel schrijven we een functie die het verloop van een willekeurig aandeel berekent. De return-waarde dient een lijst te zijn van lengte $n$ te zijn. Hierbij staat $n$ voor het aantal dagen dat de Monte Carlo-simulatie vooruit gaat voorspellen. In de code heet deze variabele `days`. Verder dient er een startprijs, `start_price`, voor de voorspelling te worden ingegeven. Vanaf deze prijs zal voor $n$ dagen het verloop worden voorspeld. Het laatste argument is `STD`. Dit is de standaard deviatie met welke voorspellende waardes gegeven een normaalverdeling worden gegenereerd.\n",
    "\n",
    "De formule om de prijs voor morgen, gegeven de prijs van vandaag, te berekenen is als volgt:\n",
    "\n",
    "$$ Price_{n+1} = Price_{n} \\times (1 + {\\mathcal{N}(0,\\,\\sigma)})$$\n",
    "\n",
    "Oftewel, de prijs van vandaag vermenigvuldigd met een waarde. Deze waarde zijnde $1$ plus een willekeurige getal uit een normaalverdeling met $\\mu=0$ en een door de gebruiker gegeven $\\sigma$. Hoe de waarde voor $\\sigma$ wordt bepaald, zal verderop in het document worden toegelicht. Voorlopig is het doel om de functie werkende te krijgen, verderop in de notebook gaan we realistische waarden genereren."
   ]
  },
  {
   "cell_type": "code",
   "execution_count": null,
   "metadata": {},
   "outputs": [],
   "source": [
    "def calc_price(start_price=25, days=100, STD=0.05):\n",
    "    \n",
    "    # breid hier de code verder uit\n",
    "    \n",
    "    return prices"
   ]
  },
  {
   "cell_type": "markdown",
   "metadata": {},
   "source": [
    "Met bovenstaande functie `calc_price` kunnen we één herhaling simuleren. Uiteraard hebben we hier niet genoeg aan.\n",
    "\n",
    "Schrijf een functie die bovenstaande functie $n$  maal herhaalt. De return waarde hiervan moet een lijst zijn. Deze lijst dient $n$ lijsten te bevatten welke ieder `days` aan elementen bevat. Oftewel, de return bestaat uit een lijst van simulaties."
   ]
  },
  {
   "cell_type": "code",
   "execution_count": null,
   "metadata": {},
   "outputs": [],
   "source": [
    "def calc_all_prices(n=100, start_price=25, days=100, STD=0.05):\n",
    "    \n",
    "    # breid hier de code verder uit\n",
    "        \n",
    "    return all_prices"
   ]
  },
  {
   "cell_type": "markdown",
   "metadata": {},
   "source": [
    "Als het goed is kan je nu met `calc_all_prices` data genereren. Met de argumenten `n` en `days` mag je zelf experimenteren. Wij raden voorlopig 100 resp. 100 voor deze twee variabelen aan.\n",
    "\n",
    "***\n",
    "\n",
    "## Deel 2: Realistische waarden\n",
    "\n",
    "Voor de variabelen `start_price` en `STD` zijn echter nog geen realistische waarden gekozen. Pas onderstaande functie zo aan dat deze de laatst bekende sluitingsprijs en de standaard deviatie van de procentuele verandering van het afgelopen jaar returnen. Deze twee waarden kunnen wij vervolgens gebruiken om de functie `calc_all_prices` te verbeteren met realistischere waarden.\n",
    "\n",
    "Enkele leuke stocks om mee te experimenteren zijn:\n",
    "- NKE\n",
    "- DIS\n",
    "- CSCO\n",
    "- MCD\n",
    "- AAPL\n",
    "- IBM\n",
    "\n",
    "> Let op! Voor de standaard deviatie van de procentuele verandering (Percentage Change) van de aandelen dien je twee achtereenvolgende functies uit te voeren op de lijst `stocks`."
   ]
  },
  {
   "cell_type": "code",
   "execution_count": null,
   "metadata": {},
   "outputs": [],
   "source": [
    "def get_stocks_2019(stock):\n",
    "    start = dt.datetime(2019, 1, 1)  # Startdatum van data\n",
    "    end = dt.datetime(2019, 12, 31)  # Einddatum van data\n",
    "\n",
    "    stocks = web.DataReader(stock, 'yahoo', start, end)['Close']  # Haalt de kolom 'Close' van stock 'stock' op\n",
    "    \n",
    "    # Pas onderstaande variabelen aan\n",
    "    last_price = stocks[-1]  # Laatst bekende prijs van het aandeel\n",
    "    std_of_pct_change = stocks.pct_change().std()  # Standaard deviatie van de procentuele verandering van het aandeel\n",
    "\n",
    "    return last_price, std_of_pct_change"
   ]
  },
  {
   "cell_type": "markdown",
   "metadata": {},
   "source": [
    "Probeer in onderstaande cell eens om voor 100 herhalingen/simulaties, 100 dagen aan **AAPL** (Apple) stocks te voorspellen:\n",
    "\n",
    "> Let op! Het ophalen van stockdata kan enkele seconden duren."
   ]
  },
  {
   "cell_type": "code",
   "execution_count": null,
   "metadata": {},
   "outputs": [],
   "source": [
    "last_price, std = get_stocks_2019(\"AAPL\")\n",
    "\n",
    "all_prices = calc_all_prices(start_price=last_price, STD=std)"
   ]
  },
  {
   "cell_type": "markdown",
   "metadata": {},
   "source": [
    "Als het goed is heb je nu een lijst met 100 simulaties van het vermoedelijke beursverloop van **AAPL**.\n",
    "\n",
    "***\n",
    "\n",
    "\n",
    "## Deel 3: Gegevens visualiseren\n",
    "Nu je data kunt genereren, dient dit nog te worden gevisualiseerd. Maak een Seaborn-lineplot welke lijkt op de foto bovenaan deze notebook. Op de x-as dient het tijdsverloop en op de y-as de prijs te komen. Als input dien je het resultaat van `calc_all_prices` te geven.\n",
    "\n",
    "Is er al een trend te ontdekken in de plot?\n",
    "\n",
    "> Bonuspunten: Voor degene met een mooie titel en as-labels"
   ]
  },
  {
   "cell_type": "code",
   "execution_count": null,
   "metadata": {},
   "outputs": [],
   "source": [
    "def plot_verloop(data):\n",
    "    \n",
    "    # breid hier de code verder uit\n",
    "    # gebruik sns.lineplot voor het plotten van iedere individuele prijs lijn\n",
    "    \n",
    "    plt.show()\n",
    "\n",
    "plot_verloop(all_prices)"
   ]
  },
  {
   "cell_type": "markdown",
   "metadata": {},
   "source": [
    "Mooi! Nu kan -als het goed is- het mogelijke verloop van de stockprijs laten zien. Echter kunnen we hier nog geen conclusies uit trekken. Door 100 simulaties uit te voeren hebben we hopelijk genoeg data kunnen genereren om een globale trend te kunnen herkennen. Dit is één van de doelen van Monte Carlo Methods: uit veel repetities van een simulatie een trend kunnen halen.\n",
    "\n",
    "In onderstaande cell dien je een normaalverdeling te plotten van de verzamelde data. Ook hier geldt als input het resultaat van `calc_all_prices`. Zorg dat in de titel het gemiddelde ($\\mu$) en de standaard deviatie ($\\sigma$) staan."
   ]
  },
  {
   "cell_type": "code",
   "execution_count": null,
   "metadata": {},
   "outputs": [],
   "source": [
    "def plot_norm_dist(data):\n",
    "    \n",
    "    # breid hier de code verder uit\n",
    "    \n",
    "    plt.show()\n",
    "plot_norm_dist(all_prices)"
   ]
  },
  {
   "cell_type": "markdown",
   "metadata": {},
   "source": [
    "***\n",
    "\n",
    "## Deel 4: tijdscomplexiteit\n",
    "\n",
    "Gefeliciteerd! In de vorige delen heb je het volledige proces van Monte Carlo doorlopen. In het vierde en laatste deel van deze helft van de workshop ga je een van de nadelen van Monte Carlo ondervinden.\n",
    "\n",
    "Ga met behulp van de `timeit`-module meten hoelang het genereren van data voor verschillende samplesizes duurt. Gebruik weer de functie `calc_all_prices` Kies enkele verschillende waarden voor het aantal simulaties, $n$. Bijvoorbeeld 100, 1.000 en 10.000.\n",
    "\n",
    "En? heeft je computer al moeite met 10.000? Dit is het grote nadeel van Monte Carlo waar we het eerder in de presentatie over hadden."
   ]
  },
  {
   "cell_type": "code",
   "execution_count": null,
   "metadata": {},
   "outputs": [],
   "source": [
    "last_price, std"
   ]
  },
  {
   "cell_type": "markdown",
   "metadata": {},
   "source": [
    "Time hier hoelang het duur om ```calc_all_prices()``` te runnen met n = 100. Gebruik hiervoor ```%timeit```"
   ]
  },
  {
   "cell_type": "code",
   "execution_count": null,
   "metadata": {},
   "outputs": [],
   "source": []
  },
  {
   "cell_type": "markdown",
   "metadata": {},
   "source": [
    "Time hier hoelang het duur om ```calc_all_prices()``` te runnen met n = 1_000. Gebruik hiervoor ```%timeit```"
   ]
  },
  {
   "cell_type": "code",
   "execution_count": null,
   "metadata": {},
   "outputs": [],
   "source": []
  },
  {
   "cell_type": "markdown",
   "metadata": {},
   "source": [
    "Time hier hoelang het duur om ```calc_all_prices()``` te runnen met n = 10_000. Gebruik hiervoor ```%timeit```"
   ]
  },
  {
   "cell_type": "code",
   "execution_count": null,
   "metadata": {},
   "outputs": [],
   "source": []
  },
  {
   "cell_type": "markdown",
   "metadata": {},
   "source": [
    "Te zien is dat de tijd met $n$ toeneemt.\n",
    "\n",
    "***\n",
    "\n",
    "## Bronnen\n",
    "\n",
    "- https://www.youtube.com/watch?v=_T0l015ecK4  \n",
    "- https://gym.openai.com/docs/  \n",
    "- https://www.youtube.com/watch?v=TvO0Sa-6UVc  \n",
    "- https://www.youtube.com/watch?v=e8ofon3sg8E  \n",
    "- https://towardsdatascience.com/playing-blackjack-using-model-free-reinforcement-learning-in-google-colab-aa2041a2c13d  "
   ]
  }
 ],
 "metadata": {
  "kernelspec": {
   "display_name": "Python 3",
   "language": "python",
   "name": "python3"
  },
  "language_info": {
   "codemirror_mode": {
    "name": "ipython",
    "version": 3
   },
   "file_extension": ".py",
   "mimetype": "text/x-python",
   "name": "python",
   "nbconvert_exporter": "python",
   "pygments_lexer": "ipython3",
   "version": "3.7.4"
  }
 },
 "nbformat": 4,
 "nbformat_minor": 2
}
